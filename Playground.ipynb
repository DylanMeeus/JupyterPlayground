{
 "cells": [
  {
   "cell_type": "markdown",
   "metadata": {},
   "source": [
    "# Playground to test Jupyter things!"
   ]
  },
  {
   "cell_type": "code",
   "execution_count": 30,
   "metadata": {
    "scrolled": true
   },
   "outputs": [],
   "source": [
    "import pandas as pd\n",
    "import numpy as np\n",
    "import matplotlib.pyplot as plt\n",
    "import ipywidgets as widgets\n",
    "from pandas import DataFrame, Series\n",
    "from ipywidgets import interact, interact_manual"
   ]
  },
  {
   "cell_type": "code",
   "execution_count": 9,
   "metadata": {
    "scrolled": true
   },
   "outputs": [
    {
     "data": {
      "text/plain": [
       "0      42\n",
       "1      73\n",
       "2      75\n",
       "3      77\n",
       "4      41\n",
       "5      68\n",
       "6      42\n",
       "7       5\n",
       "8      10\n",
       "9       1\n",
       "10     74\n",
       "11     15\n",
       "12     31\n",
       "13     28\n",
       "14     76\n",
       "15     88\n",
       "16     84\n",
       "17     60\n",
       "18     37\n",
       "19     14\n",
       "20     57\n",
       "21      7\n",
       "22     37\n",
       "23     56\n",
       "24     90\n",
       "25     76\n",
       "26     23\n",
       "27      3\n",
       "28     91\n",
       "29      6\n",
       "       ..\n",
       "970    92\n",
       "971    22\n",
       "972     6\n",
       "973    21\n",
       "974    88\n",
       "975     1\n",
       "976    54\n",
       "977     5\n",
       "978    67\n",
       "979    61\n",
       "980    43\n",
       "981    73\n",
       "982    35\n",
       "983     3\n",
       "984    75\n",
       "985     2\n",
       "986    80\n",
       "987    88\n",
       "988    16\n",
       "989    92\n",
       "990    30\n",
       "991    47\n",
       "992    77\n",
       "993    29\n",
       "994    60\n",
       "995    75\n",
       "996    48\n",
       "997    39\n",
       "998    32\n",
       "999    85\n",
       "Length: 1000, dtype: int32"
      ]
     },
     "execution_count": 9,
     "metadata": {},
     "output_type": "execute_result"
    }
   ],
   "source": [
    "series = Series(np.random.randint(0,100,1000))\n",
    "series"
   ]
  },
  {
   "cell_type": "code",
   "execution_count": 33,
   "metadata": {},
   "outputs": [
    {
     "data": {
      "application/vnd.jupyter.widget-view+json": {
       "model_id": "8f7aeb097eb04b8a800fad54a6327d21",
       "version_major": 2,
       "version_minor": 0
      },
      "text/plain": [
       "interactive(children=(IntSlider(value=100, continuous_update=False, description='m'), Output()), _dom_classes=…"
      ]
     },
     "metadata": {},
     "output_type": "display_data"
    },
    {
     "data": {
      "text/plain": [
       "<function __main__.max_slider(m)>"
      ]
     },
     "execution_count": 33,
     "metadata": {},
     "output_type": "execute_result"
    }
   ],
   "source": [
    "def max_slider(m):\n",
    "    print(series[0:m])\n",
    "    \n",
    "interact(max_slider, m=widgets.IntSlider(min=0, max=100, value=100, continuous_update=False))"
   ]
  },
  {
   "cell_type": "code",
   "execution_count": null,
   "metadata": {},
   "outputs": [],
   "source": []
  }
 ],
 "metadata": {
  "kernelspec": {
   "display_name": "Python 3",
   "language": "python",
   "name": "python3"
  },
  "language_info": {
   "codemirror_mode": {
    "name": "ipython",
    "version": 3
   },
   "file_extension": ".py",
   "mimetype": "text/x-python",
   "name": "python",
   "nbconvert_exporter": "python",
   "pygments_lexer": "ipython3",
   "version": "3.6.5"
  }
 },
 "nbformat": 4,
 "nbformat_minor": 2
}
